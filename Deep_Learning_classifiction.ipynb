{
  "nbformat": 4,
  "nbformat_minor": 0,
  "metadata": {
    "colab": {
      "name": "Deep Learning classifiction.ipynb",
      "provenance": [],
      "collapsed_sections": []
    },
    "kernelspec": {
      "name": "python3",
      "display_name": "Python 3"
    }
  },
  "cells": [
    {
      "cell_type": "code",
      "metadata": {
        "id": "qz6jjLZ2xanB"
      },
      "source": [
        "%tensorflow_version 2.x"
      ],
      "execution_count": 1,
      "outputs": []
    },
    {
      "cell_type": "code",
      "metadata": {
        "id": "ocZNRKY7xhGK"
      },
      "source": [
        "from __future__ import absolute_import,division,print_function,unicode_literals\n",
        "import tensorflow as tf\n",
        "import pandas as pd\n"
      ],
      "execution_count": 2,
      "outputs": []
    },
    {
      "cell_type": "markdown",
      "metadata": {
        "id": "9zLNzmkGds1U"
      },
      "source": [
        "###Dataset\n",
        "This specific dataset seperates flowers into 3 different classes of species.\n",
        "- Setosa\n",
        "- Versicolor\n",
        "- Virginica\n",
        "\n",
        "The information about each flower is the following.\n",
        "- sepal length\n",
        "- sepal width\n",
        "- petal length\n",
        "- petal width"
      ]
    },
    {
      "cell_type": "code",
      "metadata": {
        "id": "8prKApyuzMr5"
      },
      "source": [
        "csv_column_names=['SepalLength', 'SepalWidth', 'PetalLength', 'PetalWidth', 'Species']\n",
        "Species=['Setosa', 'Versicolor', 'Virginica']"
      ],
      "execution_count": 3,
      "outputs": []
    },
    {
      "cell_type": "code",
      "metadata": {
        "id": "tLgfKUvSyFrR"
      },
      "source": [
        "train_path = tf.keras.utils.get_file(\n",
        "    \"iris_training.csv\", \"https://storage.googleapis.com/download.tensorflow.org/data/iris_training.csv\")\n",
        "test_path = tf.keras.utils.get_file(\n",
        "    \"iris_test.csv\", \"https://storage.googleapis.com/download.tensorflow.org/data/iris_test.csv\")\n",
        "\n",
        "train=pd.read_csv(train_path,names=csv_column_names,header=0)\n",
        "test=pd.read_csv(test_path,names=csv_column_names,header=0)"
      ],
      "execution_count": 4,
      "outputs": []
    },
    {
      "cell_type": "code",
      "metadata": {
        "id": "AqFe9kVpy66b",
        "outputId": "8c0c2ab7-451a-4de4-c86a-34ffa001dce6",
        "colab": {
          "base_uri": "https://localhost:8080/"
        }
      },
      "source": [
        "print(test.head())\n",
        "print(train.head())"
      ],
      "execution_count": 5,
      "outputs": [
        {
          "output_type": "stream",
          "text": [
            "   SepalLength  SepalWidth  PetalLength  PetalWidth  Species\n",
            "0          5.9         3.0          4.2         1.5        1\n",
            "1          6.9         3.1          5.4         2.1        2\n",
            "2          5.1         3.3          1.7         0.5        0\n",
            "3          6.0         3.4          4.5         1.6        1\n",
            "4          5.5         2.5          4.0         1.3        1\n",
            "   SepalLength  SepalWidth  PetalLength  PetalWidth  Species\n",
            "0          6.4         2.8          5.6         2.2        2\n",
            "1          5.0         2.3          3.3         1.0        1\n",
            "2          4.9         2.5          4.5         1.7        2\n",
            "3          4.9         3.1          1.5         0.1        0\n",
            "4          5.7         3.8          1.7         0.3        0\n"
          ],
          "name": "stdout"
        }
      ]
    },
    {
      "cell_type": "markdown",
      "metadata": {
        "id": "kJlQb69y0dDY"
      },
      "source": [
        "Now we can pop up the species columns and use that as our label"
      ]
    },
    {
      "cell_type": "code",
      "metadata": {
        "id": "3fPWZiRYzyTh",
        "outputId": "498ea620-0144-47a7-fced-16be7ab69765",
        "colab": {
          "base_uri": "https://localhost:8080/"
        }
      },
      "source": [
        "train_y = train.pop('Species')\n",
        "test_y = test.pop('Species')\n",
        "print(train_y)\n",
        "print(test_y)"
      ],
      "execution_count": 6,
      "outputs": [
        {
          "output_type": "stream",
          "text": [
            "0      2\n",
            "1      1\n",
            "2      2\n",
            "3      0\n",
            "4      0\n",
            "      ..\n",
            "115    1\n",
            "116    1\n",
            "117    0\n",
            "118    0\n",
            "119    1\n",
            "Name: Species, Length: 120, dtype: int64\n",
            "0     1\n",
            "1     2\n",
            "2     0\n",
            "3     1\n",
            "4     1\n",
            "5     1\n",
            "6     0\n",
            "7     2\n",
            "8     1\n",
            "9     2\n",
            "10    2\n",
            "11    0\n",
            "12    2\n",
            "13    1\n",
            "14    1\n",
            "15    0\n",
            "16    1\n",
            "17    0\n",
            "18    0\n",
            "19    2\n",
            "20    0\n",
            "21    1\n",
            "22    2\n",
            "23    1\n",
            "24    1\n",
            "25    1\n",
            "26    0\n",
            "27    1\n",
            "28    2\n",
            "29    1\n",
            "Name: Species, dtype: int64\n"
          ],
          "name": "stdout"
        }
      ]
    },
    {
      "cell_type": "code",
      "metadata": {
        "id": "rvZkKmeC03qr",
        "outputId": "6616d8e1-1147-407c-f9c6-94f35a244dac",
        "colab": {
          "base_uri": "https://localhost:8080/",
          "height": 204
        }
      },
      "source": [
        "train.head()"
      ],
      "execution_count": 7,
      "outputs": [
        {
          "output_type": "execute_result",
          "data": {
            "text/html": [
              "<div>\n",
              "<style scoped>\n",
              "    .dataframe tbody tr th:only-of-type {\n",
              "        vertical-align: middle;\n",
              "    }\n",
              "\n",
              "    .dataframe tbody tr th {\n",
              "        vertical-align: top;\n",
              "    }\n",
              "\n",
              "    .dataframe thead th {\n",
              "        text-align: right;\n",
              "    }\n",
              "</style>\n",
              "<table border=\"1\" class=\"dataframe\">\n",
              "  <thead>\n",
              "    <tr style=\"text-align: right;\">\n",
              "      <th></th>\n",
              "      <th>SepalLength</th>\n",
              "      <th>SepalWidth</th>\n",
              "      <th>PetalLength</th>\n",
              "      <th>PetalWidth</th>\n",
              "    </tr>\n",
              "  </thead>\n",
              "  <tbody>\n",
              "    <tr>\n",
              "      <th>0</th>\n",
              "      <td>6.4</td>\n",
              "      <td>2.8</td>\n",
              "      <td>5.6</td>\n",
              "      <td>2.2</td>\n",
              "    </tr>\n",
              "    <tr>\n",
              "      <th>1</th>\n",
              "      <td>5.0</td>\n",
              "      <td>2.3</td>\n",
              "      <td>3.3</td>\n",
              "      <td>1.0</td>\n",
              "    </tr>\n",
              "    <tr>\n",
              "      <th>2</th>\n",
              "      <td>4.9</td>\n",
              "      <td>2.5</td>\n",
              "      <td>4.5</td>\n",
              "      <td>1.7</td>\n",
              "    </tr>\n",
              "    <tr>\n",
              "      <th>3</th>\n",
              "      <td>4.9</td>\n",
              "      <td>3.1</td>\n",
              "      <td>1.5</td>\n",
              "      <td>0.1</td>\n",
              "    </tr>\n",
              "    <tr>\n",
              "      <th>4</th>\n",
              "      <td>5.7</td>\n",
              "      <td>3.8</td>\n",
              "      <td>1.7</td>\n",
              "      <td>0.3</td>\n",
              "    </tr>\n",
              "  </tbody>\n",
              "</table>\n",
              "</div>"
            ],
            "text/plain": [
              "   SepalLength  SepalWidth  PetalLength  PetalWidth\n",
              "0          6.4         2.8          5.6         2.2\n",
              "1          5.0         2.3          3.3         1.0\n",
              "2          4.9         2.5          4.5         1.7\n",
              "3          4.9         3.1          1.5         0.1\n",
              "4          5.7         3.8          1.7         0.3"
            ]
          },
          "metadata": {
            "tags": []
          },
          "execution_count": 7
        }
      ]
    },
    {
      "cell_type": "code",
      "metadata": {
        "id": "ZrM9I9m31zOR",
        "outputId": "b1bf0c88-5801-4b04-8812-8a65b3f34a68",
        "colab": {
          "base_uri": "https://localhost:8080/",
          "height": 204
        }
      },
      "source": [
        "test.head()"
      ],
      "execution_count": 8,
      "outputs": [
        {
          "output_type": "execute_result",
          "data": {
            "text/html": [
              "<div>\n",
              "<style scoped>\n",
              "    .dataframe tbody tr th:only-of-type {\n",
              "        vertical-align: middle;\n",
              "    }\n",
              "\n",
              "    .dataframe tbody tr th {\n",
              "        vertical-align: top;\n",
              "    }\n",
              "\n",
              "    .dataframe thead th {\n",
              "        text-align: right;\n",
              "    }\n",
              "</style>\n",
              "<table border=\"1\" class=\"dataframe\">\n",
              "  <thead>\n",
              "    <tr style=\"text-align: right;\">\n",
              "      <th></th>\n",
              "      <th>SepalLength</th>\n",
              "      <th>SepalWidth</th>\n",
              "      <th>PetalLength</th>\n",
              "      <th>PetalWidth</th>\n",
              "    </tr>\n",
              "  </thead>\n",
              "  <tbody>\n",
              "    <tr>\n",
              "      <th>0</th>\n",
              "      <td>5.9</td>\n",
              "      <td>3.0</td>\n",
              "      <td>4.2</td>\n",
              "      <td>1.5</td>\n",
              "    </tr>\n",
              "    <tr>\n",
              "      <th>1</th>\n",
              "      <td>6.9</td>\n",
              "      <td>3.1</td>\n",
              "      <td>5.4</td>\n",
              "      <td>2.1</td>\n",
              "    </tr>\n",
              "    <tr>\n",
              "      <th>2</th>\n",
              "      <td>5.1</td>\n",
              "      <td>3.3</td>\n",
              "      <td>1.7</td>\n",
              "      <td>0.5</td>\n",
              "    </tr>\n",
              "    <tr>\n",
              "      <th>3</th>\n",
              "      <td>6.0</td>\n",
              "      <td>3.4</td>\n",
              "      <td>4.5</td>\n",
              "      <td>1.6</td>\n",
              "    </tr>\n",
              "    <tr>\n",
              "      <th>4</th>\n",
              "      <td>5.5</td>\n",
              "      <td>2.5</td>\n",
              "      <td>4.0</td>\n",
              "      <td>1.3</td>\n",
              "    </tr>\n",
              "  </tbody>\n",
              "</table>\n",
              "</div>"
            ],
            "text/plain": [
              "   SepalLength  SepalWidth  PetalLength  PetalWidth\n",
              "0          5.9         3.0          4.2         1.5\n",
              "1          6.9         3.1          5.4         2.1\n",
              "2          5.1         3.3          1.7         0.5\n",
              "3          6.0         3.4          4.5         1.6\n",
              "4          5.5         2.5          4.0         1.3"
            ]
          },
          "metadata": {
            "tags": []
          },
          "execution_count": 8
        }
      ]
    },
    {
      "cell_type": "code",
      "metadata": {
        "id": "BeFFledE10xY",
        "outputId": "c06ccfab-0f91-4041-d011-9601e75a77ea",
        "colab": {
          "base_uri": "https://localhost:8080/"
        }
      },
      "source": [
        "train.shape"
      ],
      "execution_count": 9,
      "outputs": [
        {
          "output_type": "execute_result",
          "data": {
            "text/plain": [
              "(120, 4)"
            ]
          },
          "metadata": {
            "tags": []
          },
          "execution_count": 9
        }
      ]
    },
    {
      "cell_type": "markdown",
      "metadata": {
        "id": "md3t1Go316e3"
      },
      "source": [
        "# Input Function\n"
      ]
    },
    {
      "cell_type": "code",
      "metadata": {
        "id": "WbhgkDBY12_c"
      },
      "source": [
        "def input_fn(features, labels, training=True, batch_size=256):\n",
        "    # Convert the inputs to a Dataset.\n",
        "    dataset = tf.data.Dataset.from_tensor_slices((dict(features), labels))\n",
        "    \n",
        "    # Shuffle and repeat if you are in training mode.\n",
        "    if training:\n",
        "        dataset = dataset.shuffle(1000).repeat()\n",
        "    \n",
        "    return dataset.batch(batch_size)\n",
        "\n"
      ],
      "execution_count": 10,
      "outputs": []
    },
    {
      "cell_type": "markdown",
      "metadata": {
        "id": "5L0SPJMV84c5"
      },
      "source": [
        "# Feature Column"
      ]
    },
    {
      "cell_type": "code",
      "metadata": {
        "id": "50buSeOd6-Ar",
        "outputId": "ddd15745-e556-4f57-c68a-92e3076caa86",
        "colab": {
          "base_uri": "https://localhost:8080/"
        }
      },
      "source": [
        "my_features_columns=[]\n",
        "for key in train.keys():\n",
        "  my_features_columns.append(tf.feature_column.numeric_column(key=key))\n",
        "my_features_columns"
      ],
      "execution_count": 11,
      "outputs": [
        {
          "output_type": "execute_result",
          "data": {
            "text/plain": [
              "[NumericColumn(key='SepalLength', shape=(1,), default_value=None, dtype=tf.float32, normalizer_fn=None),\n",
              " NumericColumn(key='SepalWidth', shape=(1,), default_value=None, dtype=tf.float32, normalizer_fn=None),\n",
              " NumericColumn(key='PetalLength', shape=(1,), default_value=None, dtype=tf.float32, normalizer_fn=None),\n",
              " NumericColumn(key='PetalWidth', shape=(1,), default_value=None, dtype=tf.float32, normalizer_fn=None)]"
            ]
          },
          "metadata": {
            "tags": []
          },
          "execution_count": 11
        }
      ]
    },
    {
      "cell_type": "code",
      "metadata": {
        "id": "Zyx9vgIE95GU",
        "outputId": "86f10f49-2890-48e6-8485-db6443935457",
        "colab": {
          "base_uri": "https://localhost:8080/"
        }
      },
      "source": [
        "train.keys()"
      ],
      "execution_count": 12,
      "outputs": [
        {
          "output_type": "execute_result",
          "data": {
            "text/plain": [
              "Index(['SepalLength', 'SepalWidth', 'PetalLength', 'PetalWidth'], dtype='object')"
            ]
          },
          "metadata": {
            "tags": []
          },
          "execution_count": 12
        }
      ]
    },
    {
      "cell_type": "markdown",
      "metadata": {
        "id": "PxelV836-bM2"
      },
      "source": [
        "# Building Model"
      ]
    },
    {
      "cell_type": "markdown",
      "metadata": {
        "id": "27MBL1mh-j4G"
      },
      "source": [
        "For classification tasks there are variety of different estimators/models that we can pick from. Some options are listed below.\n",
        "\n",
        "1.   DNNClassifier (Deep Neural Network)\n",
        "2.  LinearClassifier\n",
        "\n"
      ]
    },
    {
      "cell_type": "code",
      "metadata": {
        "id": "QUlc_lyL-anp",
        "outputId": "08826ea5-5ec3-4ffa-edb3-72c1796afa74",
        "colab": {
          "base_uri": "https://localhost:8080/"
        }
      },
      "source": [
        "\n",
        "classifier = tf.estimator.DNNClassifier(\n",
        "    feature_columns=my_features_columns,\n",
        "    hidden_units=[30,10],\n",
        "    n_classes=3)"
      ],
      "execution_count": 13,
      "outputs": [
        {
          "output_type": "stream",
          "text": [
            "INFO:tensorflow:Using default config.\n",
            "WARNING:tensorflow:Using temporary folder as model directory: /tmp/tmpx977p5xd\n",
            "INFO:tensorflow:Using config: {'_model_dir': '/tmp/tmpx977p5xd', '_tf_random_seed': None, '_save_summary_steps': 100, '_save_checkpoints_steps': None, '_save_checkpoints_secs': 600, '_session_config': allow_soft_placement: true\n",
            "graph_options {\n",
            "  rewrite_options {\n",
            "    meta_optimizer_iterations: ONE\n",
            "  }\n",
            "}\n",
            ", '_keep_checkpoint_max': 5, '_keep_checkpoint_every_n_hours': 10000, '_log_step_count_steps': 100, '_train_distribute': None, '_device_fn': None, '_protocol': None, '_eval_distribute': None, '_experimental_distribute': None, '_experimental_max_worker_delay_secs': None, '_session_creation_timeout_secs': 7200, '_service': None, '_cluster_spec': ClusterSpec({}), '_task_type': 'worker', '_task_id': 0, '_global_id_in_cluster': 0, '_master': '', '_evaluation_master': '', '_is_chief': True, '_num_ps_replicas': 0, '_num_worker_replicas': 1}\n"
          ],
          "name": "stdout"
        }
      ]
    },
    {
      "cell_type": "markdown",
      "metadata": {
        "id": "yusdD_6cBOtZ"
      },
      "source": [
        "# Training Data"
      ]
    },
    {
      "cell_type": "code",
      "metadata": {
        "id": "BMVUVsU497tW",
        "outputId": "9b62d2ae-b296-4afb-95c2-35b69147d3e5",
        "colab": {
          "base_uri": "https://localhost:8080/"
        }
      },
      "source": [
        "classifier.train(\n",
        "    input_fn=lambda: input_fn(train, train_y, training=True),\n",
        "    steps=5000)"
      ],
      "execution_count": 14,
      "outputs": [
        {
          "output_type": "stream",
          "text": [
            "WARNING:tensorflow:From /usr/local/lib/python3.6/dist-packages/tensorflow/python/training/training_util.py:236: Variable.initialized_value (from tensorflow.python.ops.variables) is deprecated and will be removed in a future version.\n",
            "Instructions for updating:\n",
            "Use Variable.read_value. Variables in 2.X are initialized automatically both in eager and graph (inside tf.defun) contexts.\n",
            "INFO:tensorflow:Calling model_fn.\n",
            "WARNING:tensorflow:Layer dnn is casting an input tensor from dtype float64 to the layer's dtype of float32, which is new behavior in TensorFlow 2.  The layer has dtype float32 because its dtype defaults to floatx.\n",
            "\n",
            "If you intended to run this layer in float32, you can safely ignore this warning. If in doubt, this warning is likely only an issue if you are porting a TensorFlow 1.X model to TensorFlow 2.\n",
            "\n",
            "To change all layers to have dtype float64 by default, call `tf.keras.backend.set_floatx('float64')`. To change just this layer, pass dtype='float64' to the layer constructor. If you are the author of this layer, you can disable autocasting by passing autocast=False to the base Layer constructor.\n",
            "\n",
            "WARNING:tensorflow:From /usr/local/lib/python3.6/dist-packages/tensorflow/python/keras/optimizer_v2/adagrad.py:83: calling Constant.__init__ (from tensorflow.python.ops.init_ops) with dtype is deprecated and will be removed in a future version.\n",
            "Instructions for updating:\n",
            "Call initializer instance with the dtype argument instead of passing it to the constructor\n",
            "INFO:tensorflow:Done calling model_fn.\n",
            "INFO:tensorflow:Create CheckpointSaverHook.\n",
            "INFO:tensorflow:Graph was finalized.\n",
            "INFO:tensorflow:Running local_init_op.\n",
            "INFO:tensorflow:Done running local_init_op.\n",
            "INFO:tensorflow:Calling checkpoint listeners before saving checkpoint 0...\n",
            "INFO:tensorflow:Saving checkpoints for 0 into /tmp/tmpx977p5xd/model.ckpt.\n",
            "INFO:tensorflow:Calling checkpoint listeners after saving checkpoint 0...\n",
            "INFO:tensorflow:loss = 1.708955, step = 0\n",
            "INFO:tensorflow:global_step/sec: 451.158\n",
            "INFO:tensorflow:loss = 1.1953394, step = 100 (0.225 sec)\n",
            "INFO:tensorflow:global_step/sec: 559.93\n",
            "INFO:tensorflow:loss = 1.0008022, step = 200 (0.179 sec)\n",
            "INFO:tensorflow:global_step/sec: 500.204\n",
            "INFO:tensorflow:loss = 0.91514695, step = 300 (0.200 sec)\n",
            "INFO:tensorflow:global_step/sec: 511.663\n",
            "INFO:tensorflow:loss = 0.8678533, step = 400 (0.195 sec)\n",
            "INFO:tensorflow:global_step/sec: 556.221\n",
            "INFO:tensorflow:loss = 0.8425808, step = 500 (0.178 sec)\n",
            "INFO:tensorflow:global_step/sec: 569.417\n",
            "INFO:tensorflow:loss = 0.81326604, step = 600 (0.176 sec)\n",
            "INFO:tensorflow:global_step/sec: 593.125\n",
            "INFO:tensorflow:loss = 0.7875794, step = 700 (0.168 sec)\n",
            "INFO:tensorflow:global_step/sec: 568.268\n",
            "INFO:tensorflow:loss = 0.77294886, step = 800 (0.176 sec)\n",
            "INFO:tensorflow:global_step/sec: 558.715\n",
            "INFO:tensorflow:loss = 0.7503331, step = 900 (0.180 sec)\n",
            "INFO:tensorflow:global_step/sec: 541.541\n",
            "INFO:tensorflow:loss = 0.73540735, step = 1000 (0.184 sec)\n",
            "INFO:tensorflow:global_step/sec: 613.302\n",
            "INFO:tensorflow:loss = 0.72225213, step = 1100 (0.163 sec)\n",
            "INFO:tensorflow:global_step/sec: 586.953\n",
            "INFO:tensorflow:loss = 0.7113791, step = 1200 (0.170 sec)\n",
            "INFO:tensorflow:global_step/sec: 624.919\n",
            "INFO:tensorflow:loss = 0.6994077, step = 1300 (0.160 sec)\n",
            "INFO:tensorflow:global_step/sec: 591.973\n",
            "INFO:tensorflow:loss = 0.6900364, step = 1400 (0.173 sec)\n",
            "INFO:tensorflow:global_step/sec: 545.047\n",
            "INFO:tensorflow:loss = 0.6820329, step = 1500 (0.180 sec)\n",
            "INFO:tensorflow:global_step/sec: 581.176\n",
            "INFO:tensorflow:loss = 0.67307234, step = 1600 (0.171 sec)\n",
            "INFO:tensorflow:global_step/sec: 574.064\n",
            "INFO:tensorflow:loss = 0.6622436, step = 1700 (0.174 sec)\n",
            "INFO:tensorflow:global_step/sec: 595.081\n",
            "INFO:tensorflow:loss = 0.6547257, step = 1800 (0.168 sec)\n",
            "INFO:tensorflow:global_step/sec: 588.18\n",
            "INFO:tensorflow:loss = 0.64745426, step = 1900 (0.170 sec)\n",
            "INFO:tensorflow:global_step/sec: 562.6\n",
            "INFO:tensorflow:loss = 0.6382953, step = 2000 (0.178 sec)\n",
            "INFO:tensorflow:global_step/sec: 557.298\n",
            "INFO:tensorflow:loss = 0.63123965, step = 2100 (0.180 sec)\n",
            "INFO:tensorflow:global_step/sec: 575.697\n",
            "INFO:tensorflow:loss = 0.6267181, step = 2200 (0.174 sec)\n",
            "INFO:tensorflow:global_step/sec: 541.973\n",
            "INFO:tensorflow:loss = 0.6185322, step = 2300 (0.186 sec)\n",
            "INFO:tensorflow:global_step/sec: 549.298\n",
            "INFO:tensorflow:loss = 0.6119455, step = 2400 (0.183 sec)\n",
            "INFO:tensorflow:global_step/sec: 529.306\n",
            "INFO:tensorflow:loss = 0.6024142, step = 2500 (0.189 sec)\n",
            "WARNING:tensorflow:It seems that global step (tf.train.get_global_step) has not been increased. Current value (could be stable): 2502 vs previous value: 2502. You could increase the global step by passing tf.train.get_global_step() to Optimizer.apply_gradients or Optimizer.minimize.\n",
            "INFO:tensorflow:global_step/sec: 572.318\n",
            "INFO:tensorflow:loss = 0.59531885, step = 2600 (0.175 sec)\n",
            "INFO:tensorflow:global_step/sec: 559.299\n",
            "INFO:tensorflow:loss = 0.59093046, step = 2700 (0.176 sec)\n",
            "INFO:tensorflow:global_step/sec: 632.561\n",
            "INFO:tensorflow:loss = 0.5849678, step = 2800 (0.158 sec)\n",
            "INFO:tensorflow:global_step/sec: 608.219\n",
            "INFO:tensorflow:loss = 0.581838, step = 2900 (0.167 sec)\n",
            "INFO:tensorflow:global_step/sec: 621.319\n",
            "INFO:tensorflow:loss = 0.5785408, step = 3000 (0.159 sec)\n",
            "INFO:tensorflow:global_step/sec: 578.199\n",
            "INFO:tensorflow:loss = 0.56335145, step = 3100 (0.173 sec)\n",
            "INFO:tensorflow:global_step/sec: 589.457\n",
            "INFO:tensorflow:loss = 0.56902003, step = 3200 (0.170 sec)\n",
            "INFO:tensorflow:global_step/sec: 534.499\n",
            "INFO:tensorflow:loss = 0.55971646, step = 3300 (0.187 sec)\n",
            "INFO:tensorflow:global_step/sec: 547.668\n",
            "INFO:tensorflow:loss = 0.5501915, step = 3400 (0.182 sec)\n",
            "INFO:tensorflow:global_step/sec: 611.276\n",
            "INFO:tensorflow:loss = 0.54268354, step = 3500 (0.164 sec)\n",
            "INFO:tensorflow:global_step/sec: 607.873\n",
            "INFO:tensorflow:loss = 0.54414505, step = 3600 (0.164 sec)\n",
            "INFO:tensorflow:global_step/sec: 537.967\n",
            "INFO:tensorflow:loss = 0.53759444, step = 3700 (0.186 sec)\n",
            "INFO:tensorflow:global_step/sec: 607.377\n",
            "INFO:tensorflow:loss = 0.5331073, step = 3800 (0.165 sec)\n",
            "INFO:tensorflow:global_step/sec: 546.473\n",
            "INFO:tensorflow:loss = 0.5268444, step = 3900 (0.183 sec)\n",
            "INFO:tensorflow:global_step/sec: 543.871\n",
            "INFO:tensorflow:loss = 0.52010965, step = 4000 (0.184 sec)\n",
            "INFO:tensorflow:global_step/sec: 622.107\n",
            "INFO:tensorflow:loss = 0.51941216, step = 4100 (0.160 sec)\n",
            "INFO:tensorflow:global_step/sec: 612.447\n",
            "INFO:tensorflow:loss = 0.51580954, step = 4200 (0.163 sec)\n",
            "INFO:tensorflow:global_step/sec: 578.497\n",
            "INFO:tensorflow:loss = 0.5140761, step = 4300 (0.175 sec)\n",
            "INFO:tensorflow:global_step/sec: 525.078\n",
            "INFO:tensorflow:loss = 0.5096501, step = 4400 (0.192 sec)\n",
            "INFO:tensorflow:global_step/sec: 584.848\n",
            "INFO:tensorflow:loss = 0.5009314, step = 4500 (0.171 sec)\n",
            "INFO:tensorflow:global_step/sec: 572.871\n",
            "INFO:tensorflow:loss = 0.5001906, step = 4600 (0.174 sec)\n",
            "INFO:tensorflow:global_step/sec: 551.366\n",
            "INFO:tensorflow:loss = 0.49751723, step = 4700 (0.180 sec)\n",
            "INFO:tensorflow:global_step/sec: 473.64\n",
            "INFO:tensorflow:loss = 0.49260554, step = 4800 (0.213 sec)\n",
            "INFO:tensorflow:global_step/sec: 528.64\n",
            "INFO:tensorflow:loss = 0.49383947, step = 4900 (0.189 sec)\n",
            "INFO:tensorflow:Calling checkpoint listeners before saving checkpoint 5000...\n",
            "INFO:tensorflow:Saving checkpoints for 5000 into /tmp/tmpx977p5xd/model.ckpt.\n",
            "INFO:tensorflow:Calling checkpoint listeners after saving checkpoint 5000...\n",
            "INFO:tensorflow:Loss for final step: 0.47860318.\n"
          ],
          "name": "stdout"
        },
        {
          "output_type": "execute_result",
          "data": {
            "text/plain": [
              "<tensorflow_estimator.python.estimator.canned.dnn.DNNClassifierV2 at 0x7fded3648c18>"
            ]
          },
          "metadata": {
            "tags": []
          },
          "execution_count": 14
        }
      ]
    },
    {
      "cell_type": "markdown",
      "metadata": {
        "id": "s3Y_uuj1EHNz"
      },
      "source": [
        " # Evaluation Part"
      ]
    },
    {
      "cell_type": "code",
      "metadata": {
        "id": "DSOkzM0VEF1p",
        "outputId": "5d280040-1da8-42e1-e5c1-65deb807a669",
        "colab": {
          "base_uri": "https://localhost:8080/"
        }
      },
      "source": [
        "result=classifier.evaluate(\n",
        "    input_fn=lambda:input_fn(test,test_y,training=False)\n",
        ")"
      ],
      "execution_count": 15,
      "outputs": [
        {
          "output_type": "stream",
          "text": [
            "INFO:tensorflow:Calling model_fn.\n",
            "WARNING:tensorflow:Layer dnn is casting an input tensor from dtype float64 to the layer's dtype of float32, which is new behavior in TensorFlow 2.  The layer has dtype float32 because its dtype defaults to floatx.\n",
            "\n",
            "If you intended to run this layer in float32, you can safely ignore this warning. If in doubt, this warning is likely only an issue if you are porting a TensorFlow 1.X model to TensorFlow 2.\n",
            "\n",
            "To change all layers to have dtype float64 by default, call `tf.keras.backend.set_floatx('float64')`. To change just this layer, pass dtype='float64' to the layer constructor. If you are the author of this layer, you can disable autocasting by passing autocast=False to the base Layer constructor.\n",
            "\n",
            "INFO:tensorflow:Done calling model_fn.\n",
            "INFO:tensorflow:Starting evaluation at 2020-10-29T18:59:31Z\n",
            "INFO:tensorflow:Graph was finalized.\n",
            "INFO:tensorflow:Restoring parameters from /tmp/tmpx977p5xd/model.ckpt-5000\n",
            "INFO:tensorflow:Running local_init_op.\n",
            "INFO:tensorflow:Done running local_init_op.\n",
            "INFO:tensorflow:Inference Time : 0.24239s\n",
            "INFO:tensorflow:Finished evaluation at 2020-10-29-18:59:31\n",
            "INFO:tensorflow:Saving dict for global step 5000: accuracy = 0.8666667, average_loss = 0.53457165, global_step = 5000, loss = 0.53457165\n",
            "INFO:tensorflow:Saving 'checkpoint_path' summary for global step 5000: /tmp/tmpx977p5xd/model.ckpt-5000\n"
          ],
          "name": "stdout"
        }
      ]
    },
    {
      "cell_type": "markdown",
      "metadata": {
        "id": "OHXWCjfWEqP7"
      },
      "source": [
        "# Prediction"
      ]
    },
    {
      "cell_type": "markdown",
      "metadata": {
        "id": "r0F6FgwdYYku"
      },
      "source": [
        "Now that we have a trained model it's time to use it to make predictions."
      ]
    },
    {
      "cell_type": "code",
      "metadata": {
        "id": "RaWZL1IFEksS",
        "outputId": "acf8ee7f-f8ef-4fad-d20a-02f376fc5f2a",
        "colab": {
          "base_uri": "https://localhost:8080/"
        }
      },
      "source": [
        "def input_fn(features, batch_size=256):\n",
        "    # Convert the inputs to a Dataset without labels.\n",
        "    return tf.data.Dataset.from_tensor_slices(dict(features)).batch(batch_size)\n",
        "\n",
        "features = ['SepalLength', 'SepalWidth', 'PetalLength', 'PetalWidth']\n",
        "predict = {}\n",
        "\n",
        "print(\"Please type numeric values as prompted.\")\n",
        "for feature in features:\n",
        "  valid = True\n",
        "  while valid: \n",
        "    val = input(feature + \": \")\n",
        "    if not val.isdigit(): valid = False\n",
        "\n",
        "  predict[feature] = [float(val)]\n",
        "\n",
        "predictions = classifier.predict(input_fn=lambda: input_fn(predict))\n",
        "for pred_dict in predictions:\n",
        "    class_id = pred_dict['class_ids'][0]\n",
        "    probability = pred_dict['probabilities'][class_id]\n",
        "\n",
        "    print('Prediction is \"{}\" ({:.1f}%)'.format(\n",
        "        SPECIES[class_id], 100 * probability))"
      ],
      "execution_count": null,
      "outputs": [
        {
          "output_type": "stream",
          "text": [
            "Please type numeric values as prompted.\n"
          ],
          "name": "stdout"
        }
      ]
    },
    {
      "cell_type": "code",
      "metadata": {
        "id": "VI9M9iA2Y8hW"
      },
      "source": [
        ""
      ],
      "execution_count": null,
      "outputs": []
    }
  ]
}